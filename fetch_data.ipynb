{
 "cells": [
  {
   "cell_type": "code",
   "execution_count": null,
   "metadata": {},
   "outputs": [],
   "source": [
    "import time\n",
    "\n",
    "import matplotlib\n",
    "import numpy as np\n",
    "import matplotlib.pyplot as plt\n",
    "import pandas as pd\n",
    "import seaborn as sns\n",
    "\n",
    "from beamngpy import BeamNGpy, Vehicle, Scenario\n",
    "from beamngpy.sensors import Electrics, Camera\n",
    "import h5py"
   ]
  },
  {
   "cell_type": "code",
   "execution_count": null,
   "metadata": {},
   "outputs": [],
   "source": [
    "beamng = BeamNGpy('localhost', 64256, home = r'E:\\beamng_unlimited_repo\\trunk' )  # This is the host & port used to communicate over\n",
    "\n",
    "# Create a vehile instance that will be called 'ego' in the simulation\n",
    "# using the etk800 model the simulator ships with\n",
    "vehicle = Vehicle('ego', model='etk800', licence='PYTHON', colour='Green')\n",
    "# Create an Electrics sensor and attach it to the vehicle\n",
    "electrics = Electrics()\n",
    "vehicle.attach_sensor('electrics', electrics)\n",
    "\n",
    "pos = (-0.3, 3, 1.0)\n",
    "direction = (0, 1, 0)\n",
    "fov = 120\n",
    "resolution = (320, 160)\n",
    "SCENARIO_NAME = 'port'\n",
    "    \n",
    "front_camera = Camera(pos, direction, fov, resolution, colour=True, depth=True, annotation=True)\n",
    "vehicle.attach_sensor('front_camera', front_camera)\n",
    "\n",
    "# Create a scenario called vehicle_state taking place in the west_coast_usa map the simulator ships with\n",
    "scenario = Scenario(SCENARIO_NAME, 'vehicle_state')\n",
    "# Add the vehicle and specify that it should start at a certain position and orientation.\n",
    "# The position & orientation values were obtained by opening the level in the simulator,\n",
    "# hitting F11 to open the editor and look for a spot to spawn and simply noting down the\n",
    "# corresponding values.\n",
    "\n",
    "#pos=(-717.121, 101, 118.675)   --- west coast usa\n",
    "scenario.add_vehicle(vehicle, pos=(-45.18949890136719,-282.8190002441406,37.50510025024414), rot=(0, 0, 45))  # 45 degree rotation around the z-axis\n",
    "\n",
    "# The make function of a scneario is used to compile the scenario and produce a scenario file the simulator can load\n",
    "scenario.make(beamng)"
   ]
  },
  {
   "cell_type": "code",
   "execution_count": null,
   "metadata": {},
   "outputs": [],
   "source": [
    "bng = beamng.open()\n",
    "bng.load_scenario(scenario)\n",
    "bng.start_scenario()"
   ]
  },
  {
   "cell_type": "code",
   "execution_count": null,
   "metadata": {},
   "outputs": [],
   "source": [
    "vehicle.ai_set_mode('span')\n",
    "vehicle.ai_drive_in_lane(True)\n",
    "vehicle.ai_set_aggression(0.6)\n",
    "\n",
    "\n",
    "positions = list()\n",
    "directions = list()\n",
    "wheel_speeds = list()\n",
    "throttles = list()\n",
    "brakes = list()\n",
    "steer = list()\n",
    "camera = list()"
   ]
  },
  {
   "cell_type": "code",
   "execution_count": null,
   "metadata": {},
   "outputs": [],
   "source": [
    "bng.close()"
   ]
  }
 ],
 "metadata": {
  "kernelspec": {
   "display_name": "Python 3",
   "language": "python",
   "name": "python3"
  },
  "language_info": {
   "codemirror_mode": {
    "name": "ipython",
    "version": 3
   },
   "file_extension": ".py",
   "mimetype": "text/x-python",
   "name": "python",
   "nbconvert_exporter": "python",
   "pygments_lexer": "ipython3",
   "version": "3.6.8"
  }
 },
 "nbformat": 4,
 "nbformat_minor": 2
}
